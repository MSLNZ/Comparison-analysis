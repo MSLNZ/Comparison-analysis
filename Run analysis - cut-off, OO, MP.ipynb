{
 "cells": [
  {
   "cell_type": "code",
   "execution_count": null,
   "metadata": {},
   "outputs": [],
   "source": [
    "# Takes in a given comparison file (in the correct format), and calculates the KCRV and DoEs using the largest consistent\n",
    "# subset. Returns an excel file with the measurements, uncertainties, participants included, DoEs and KCRVs.\n",
    "\n",
    "# Need to specify the directory where the comparison files are saved. The output files are saved in the same directory that the\n",
    "# code is being run from."
   ]
  },
  {
   "cell_type": "code",
   "execution_count": 5,
   "metadata": {},
   "outputs": [],
   "source": [
    "import xlrd\n",
    "import math\n",
    "import xlwt\n",
    "from scipy import stats\n",
    "import numpy as np\n",
    "from scipy.stats import chi2\n",
    "import operator as op\n",
    "import itertools"
   ]
  },
  {
   "cell_type": "code",
   "execution_count": 28,
   "metadata": {},
   "outputs": [],
   "source": [
    "# Run the methods and read data files so we can call those functions\n",
    "%run \"Methods-Using-GLS.ipynb\" -G"
   ]
  },
  {
   "cell_type": "code",
   "execution_count": 36,
   "metadata": {},
   "outputs": [],
   "source": [
    "# Specify the directory in which the comparison data files are saved\n",
    "# List all files which you want to analyse\n",
    "files = [\"CCL-K1-1.xls\"]"
   ]
  },
  {
   "cell_type": "code",
   "execution_count": 37,
   "metadata": {},
   "outputs": [],
   "source": []
  },
  {
   "cell_type": "code",
   "execution_count": null,
   "metadata": {},
   "outputs": [],
   "source": []
  }
 ],
 "metadata": {
  "kernelspec": {
   "display_name": "Python 3",
   "language": "python",
   "name": "python3"
  },
  "language_info": {
   "codemirror_mode": {
    "name": "ipython",
    "version": 3
   },
   "file_extension": ".py",
   "mimetype": "text/x-python",
   "name": "python",
   "nbconvert_exporter": "python",
   "pygments_lexer": "ipython3",
   "version": "3.7.1"
  }
 },
 "nbformat": 4,
 "nbformat_minor": 2
}

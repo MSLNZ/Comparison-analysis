{
 "cells": [
  {
   "cell_type": "code",
   "execution_count": null,
   "metadata": {},
   "outputs": [],
   "source": [
    "# Takes in a given comparison file (in the correct format), and calculates the KCRV and DoEs using Bayesian model averaging. \n",
    "# The model order parameter used is m=lchs-1. This can be changed by editing the value of m in the fifth cell. Note that BMA is only designed to work in the scenario where there is only one artefact.\n",
    "\n",
    "# Returns an excel file with the measurements, uncertainties, DoEs and KCRVs.\n",
    "\n",
    "code_version = 1"
   ]
  },
  {
   "cell_type": "code",
   "execution_count": 1,
   "metadata": {},
   "outputs": [],
   "source": [
    "import xlrd\n",
    "import math\n",
    "import xlwt\n",
    "from scipy import stats\n",
    "import numpy as np\n",
    "from scipy.stats import chi2\n",
    "import operator as op\n",
    "import itertools"
   ]
  },
  {
   "cell_type": "code",
   "execution_count": 27,
   "metadata": {},
   "outputs": [],
   "source": [
    "# Run the methods and read data files so we can call those functions\n",
    "%run \"Methods-Using-GLS.ipynb\" -G"
   ]
  },
  {
   "cell_type": "code",
   "execution_count": 15,
   "metadata": {},
   "outputs": [],
   "source": [
    "# Specify the directory in which the comparison data files are saved\n",
    "# List all files which you want to analyse\n",
    "files = [\"CCL-K1-1.xls\"]"
   ]
  },
  {
   "cell_type": "code",
   "execution_count": 31,
   "metadata": {},
   "outputs": [],
   "source": [
    "for file in files:\n",
    "\n",
    "    # Read data in from file\n",
    "    [y, U, NumArtefacts, NumMeasurements, NumParticipants, ave_U, X, w,ParticipantNames,MeasurementTitles,\n",
    "     count_per_lab, ArtefactNames] = read_data(file)\n",
    "\n",
    "    # Create workbook to save data\n",
    "    wb = xlwt.Workbook()\n",
    "    \n",
    "    # Add sheet with measurements\n",
    "    ws = wb.add_sheet('y')\n",
    "    ws.write(0,0,'Participant')\n",
    "    ws.write(0,1,'Measurement')\n",
    "    ws.write(0,2,'Uncertainty (k=1)')\n",
    "    for i in range(0,NumMeasurements):\n",
    "        ws.write(i+1,1,y[i,0])\n",
    "        ws.write(i+1,0,ParticipantNames[i])\n",
    "        ws.write(i+1,2,ave_U[i])\n",
    "        \n",
    "    \n",
    "    ws.write(5,0,'Code version ' + str(code_version))\n",
    "    \n",
    "    # Calculate beta, CovBeta\n",
    "    [gamma, beta, CovBeta] = calculate_beta(y, U, X, w)\n",
    "        \n",
    "    lchs = LChS(beta, CovBeta)\n",
    "    \n",
    "    m = lchs - 4\n",
    "    \n",
    "    [alpha, unc_alpha, mu, unc_mu] = BMA(y,U,m)\n",
    "\n",
    "    # Add sheet with differences\n",
    "    ws = wb.add_sheet('DoEs')\n",
    "    ws.write(0,0,'Participant')\n",
    "    ws.write(0,1,'DoE')\n",
    "    ws.write(0,2,'U(DoE)')\n",
    "    for i in range(0,NumParticipants):\n",
    "        ws.write(i+1,0,ParticipantNames[i])\n",
    "        ws.write(i+1,1,alpha[i])\n",
    "        ws.write(i+1,2,unc_alpha[i])\n",
    "\n",
    "    # Add sheet with the theta\n",
    "    ws = wb.add_sheet('Theta')\n",
    "    ws.write(0,0,'Artefact')\n",
    "    ws.write(0,1,'KCRV')\n",
    "    ws.write(0,2,'U(KCRV)')\n",
    "    ws.write(1,0,ArtefactNames[0])\n",
    "    ws.write(1,1,mu[0])\n",
    "    ws.write(1,2,unc_mu[0])\n",
    "    \n",
    "\n",
    "    wb.save(file+'-BMA.xls')"
   ]
  },
  {
   "cell_type": "code",
   "execution_count": null,
   "metadata": {},
   "outputs": [],
   "source": []
  }
 ],
 "metadata": {
  "kernelspec": {
   "display_name": "Python 3",
   "language": "python",
   "name": "python3"
  },
  "language_info": {
   "codemirror_mode": {
    "name": "ipython",
    "version": 3
   },
   "file_extension": ".py",
   "mimetype": "text/x-python",
   "name": "python",
   "nbconvert_exporter": "python",
   "pygments_lexer": "ipython3",
   "version": "3.7.1"
  }
 },
 "nbformat": 4,
 "nbformat_minor": 2
}

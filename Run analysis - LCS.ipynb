{
 "cells": [
  {
   "cell_type": "code",
   "execution_count": null,
   "metadata": {},
   "outputs": [],
   "source": [
    "# Takes in a given comparison file (in the correct format), and calculates the KCRV and DoEs using the largest consistent\n",
    "# subset. Returns an excel file with the measurements, uncertainties, participants included, DoEs and KCRVs.\n",
    "\n",
    "# Need to specify the directory where the comparison files are saved. The output files are saved in the same directory that the\n",
    "# code is being run from."
   ]
  },
  {
   "cell_type": "code",
   "execution_count": 1,
   "metadata": {},
   "outputs": [],
   "source": [
    "import xlrd\n",
    "import math\n",
    "import xlwt\n",
    "from scipy import stats\n",
    "import numpy as np\n",
    "from scipy.stats import chi2\n",
    "import operator as op\n",
    "import itertools"
   ]
  },
  {
   "cell_type": "code",
   "execution_count": 46,
   "metadata": {},
   "outputs": [],
   "source": [
    "# Run the methods and read data files so we can call those functions\n",
    "%run \"Methods-Using-GLS.ipynb\" -G"
   ]
  },
  {
   "cell_type": "code",
   "execution_count": 48,
   "metadata": {},
   "outputs": [],
   "source": [
    "# List all files which you want to analyse\n",
    "files = [\"CCL-K1-1.xls\"]"
   ]
  },
  {
   "cell_type": "code",
   "execution_count": 49,
   "metadata": {},
   "outputs": [],
   ],
   "source": [
    "for file in files:\n",
    "\n",
    "    # Read data in from file\n",
    "    [y, U, NumArtefacts, NumMeasurements, NumParticipants, ave_U, X, w,ParticipantNames,MeasurementTitles,\n",
    "     count_per_lab, ArtefactNames] = read_data(file)\n",
    "\n",
    "    # Create workbook to save data\n",
    "    wb = xlwt.Workbook()\n",
    "    \n",
    "    # Add sheet with measurements\n",
    "    ws = wb.add_sheet('y')\n",
    "    ws.write(0,0,'Participant')\n",
    "    ws.write(0,1,'Measurement')\n",
    "    ws.write(0,2,'Uncertainty (k=1)')\n",
    "    for i in range(0,NumMeasurements):\n",
    "        ws.write(i+1,1,y[i,0])\n",
    "        ws.write(i+1,0,ParticipantNames[i])\n",
    "        ws.write(i+1,2,ave_U[i])\n",
    "    \n",
    "    [w_set, beta, cov_beta] = LCS(y,ave_U)\n",
    "    \n",
    "           \n",
    "    # Add sheet with the excluded participants\n",
    "    ws = wb.add_sheet('LCS')\n",
    "    ws.write(0,0,'Participant')\n",
    "    ws.write(0,1,'Included')\n",
    "    for i in range(0,NumParticipants):\n",
    "        ws.write(i+1,0,ParticipantNames[i])\n",
    "        ws.write(i+1,1,int(w_set[i]))\n",
    "\n",
    "    # Add sheet with differences\n",
    "    ws = wb.add_sheet('DoEs')\n",
    "    ws.write(0,0,'Participant')\n",
    "    ws.write(0,1,'DoE')\n",
    "    ws.write(0,2,'U(DoE)')\n",
    "    for i in range(0,NumParticipants):\n",
    "        ws.write(i+1,0,ParticipantNames[i])\n",
    "        ws.write(i+1,1,beta[i+NumArtefacts,0])\n",
    "        ws.write(i+1,2,np.sqrt(cov_beta[i+NumArtefacts,0]))\n",
    "\n",
    "    # Add sheet with the theta\n",
    "    ws = wb.add_sheet('Theta')\n",
    "    ws.write(0,0,'Artefact')\n",
    "    ws.write(0,1,'KCRV')\n",
    "    ws.write(0,2,'U(KCRV)')\n",
    "    for i in range(0,NumArtefacts):\n",
    "        ws.write(i+1,0,ArtefactNames[i])\n",
    "        ws.write(i+1,1,beta[i,0])\n",
    "        ws.write(i+1,2,np.sqrt(cov_beta[i,0]))\n",
    "    \n",
    "\n",
    "    wb.save(file+'-LCS.xls')"
   ]
  },
  {
   "cell_type": "code",
   "execution_count": null,
   "metadata": {},
   "outputs": [],
   "source": []
  }
 ],
 "metadata": {
  "kernelspec": {
   "display_name": "Python 3",
   "language": "python",
   "name": "python3"
  },
  "language_info": {
   "codemirror_mode": {
    "name": "ipython",
    "version": 3
   },
   "file_extension": ".py",
   "mimetype": "text/x-python",
   "name": "python",
   "nbconvert_exporter": "python",
   "pygments_lexer": "ipython3",
   "version": "3.7.1"
  }
 },
 "nbformat": 4,
 "nbformat_minor": 2
}
